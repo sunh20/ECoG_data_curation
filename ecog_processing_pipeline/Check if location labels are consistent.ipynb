{
 "cells": [
  {
   "cell_type": "code",
   "execution_count": 9,
   "metadata": {},
   "outputs": [],
   "source": [
    "import h5py\n",
    "import glob\n",
    "import numpy as np\n",
    "import natsort\n",
    "\n",
    "sbjID = 'b45e3f7b' #'a0f66459'"
   ]
  },
  {
   "cell_type": "code",
   "execution_count": 14,
   "metadata": {},
   "outputs": [],
   "source": [
    "loadpath = '/data1/ecog_project/derived/processed_ecog/'+sbjID+'/preproc_hospital_ecog/'\n",
    "\n",
    "all_files = natsort.natsorted(glob.glob(loadpath+'processed_*.h5'))\n",
    "\n",
    "chan_labels_all = []\n",
    "sd_chans_all = []\n",
    "for fileID in all_files:\n",
    "    fin = h5py.File(fileID)\n",
    "\n",
    "    chan_labels = fin['chanLabels'][()].split(',')\n",
    "    sd_chans_all.append(fin['SD_channels'][()])\n",
    "    chan_labels[0] = chan_labels[0][1:]\n",
    "    chan_labels[-1] = chan_labels[-1][:-1]\n",
    "\n",
    "    for s,label in enumerate(chan_labels):\n",
    "#         print(label)\n",
    "        chan_labels[s] = str(label[1:-1])\n",
    "\n",
    "    chan_labels_all.append(chan_labels)\n",
    "    fin.close()"
   ]
  },
  {
   "cell_type": "code",
   "execution_count": 23,
   "metadata": {},
   "outputs": [
    {
     "name": "stdout",
     "output_type": "stream",
     "text": [
      "False\n"
     ]
    }
   ],
   "source": [
    "logical_vals = []\n",
    "for i in range(0,len(all_files)):\n",
    "    logical_vals.append(chan_labels_all[0]==chan_labels_all[i])\n",
    "    \n",
    "print(np.all(np.asarray(logical_vals)))"
   ]
  },
  {
   "cell_type": "code",
   "execution_count": 24,
   "metadata": {},
   "outputs": [
    {
     "data": {
      "text/plain": [
       "[True, True, True, True, True, True, True, True, True, False, False]"
      ]
     },
     "execution_count": 24,
     "metadata": {},
     "output_type": "execute_result"
    }
   ],
   "source": [
    "logical_vals"
   ]
  },
  {
   "cell_type": "code",
   "execution_count": 19,
   "metadata": {},
   "outputs": [
    {
     "data": {
      "text/plain": [
       "'/data1/ecog_project/derived/processed_ecog/b45e3f7b/preproc_hospital_ecog/processed_b45e3f7b_1.h5'"
      ]
     },
     "execution_count": 19,
     "metadata": {},
     "output_type": "execute_result"
    }
   ],
   "source": [
    "all_files[0]"
   ]
  },
  {
   "cell_type": "code",
   "execution_count": 20,
   "metadata": {},
   "outputs": [
    {
     "data": {
      "text/plain": [
       "['Event',\n",
       " \"'GRID1\",\n",
       " \"'GRID2\",\n",
       " \"'GRID3\",\n",
       " \"'GRID4\",\n",
       " \"'GRID5\",\n",
       " \"'GRID6\",\n",
       " \"'GRID7\",\n",
       " \"'GRID8\",\n",
       " \"'GRID9\",\n",
       " \"'GRID10\",\n",
       " \"'GRID11\",\n",
       " \"'GRID12\",\n",
       " \"'GRID13\",\n",
       " \"'GRID14\",\n",
       " \"'GRID15\",\n",
       " \"'GRID16\",\n",
       " \"'GRID17\",\n",
       " \"'GRID18\",\n",
       " \"'GRID19\",\n",
       " \"'GRID20\",\n",
       " \"'GRID21\",\n",
       " \"'GRID22\",\n",
       " \"'GRID23\",\n",
       " \"'GRID24\",\n",
       " \"'GRID25\",\n",
       " \"'GRID26\",\n",
       " \"'GRID27\",\n",
       " \"'GRID28\",\n",
       " \"'GRID29\",\n",
       " \"'GRID30\",\n",
       " \"'GRID31\",\n",
       " \"'GRID32\",\n",
       " \"'GRID33\",\n",
       " \"'GRID34\",\n",
       " \"'GRID35\",\n",
       " \"'GRID36\",\n",
       " \"'GRID37\",\n",
       " \"'GRID38\",\n",
       " \"'GRID39\",\n",
       " \"'GRID40\",\n",
       " \"'GRID41\",\n",
       " \"'GRID42\",\n",
       " \"'GRID43\",\n",
       " \"'GRID44\",\n",
       " \"'GRID45\",\n",
       " \"'GRID46\",\n",
       " \"'GRID47\",\n",
       " \"'GRID48\",\n",
       " \"'GRID49\",\n",
       " \"'GRID50\",\n",
       " \"'GRID51\",\n",
       " \"'GRID52\",\n",
       " \"'GRID53\",\n",
       " \"'GRID54\",\n",
       " \"'GRID55\",\n",
       " \"'GRID56\",\n",
       " \"'GRID57\",\n",
       " \"'GRID58\",\n",
       " \"'GRID59\",\n",
       " \"'GRID60\",\n",
       " \"'GRID61\",\n",
       " \"'GRID62\",\n",
       " \"'GRID63\",\n",
       " \"'GRID64\",\n",
       " \"'LOF1\",\n",
       " \"'LOF2\",\n",
       " \"'LOF3\",\n",
       " \"'LOF4\",\n",
       " \"'LOF5\",\n",
       " \"'LOF6\",\n",
       " \"'LOF7\",\n",
       " \"'LOF8\",\n",
       " \"'AID1\",\n",
       " \"'AID2\",\n",
       " \"'AID3\",\n",
       " \"'AID4\",\n",
       " \"'AID5\",\n",
       " \"'AID6\",\n",
       " \"'AID7\",\n",
       " \"'AID8\",\n",
       " \"'PID1\",\n",
       " \"'PID2\",\n",
       " \"'PID3\",\n",
       " \"'PID4\",\n",
       " \"'PID5\",\n",
       " \"'PID6\",\n",
       " \"'PID7\",\n",
       " \"'PID8\",\n",
       " \"'LTP1\",\n",
       " \"'LTP2\",\n",
       " \"'LTP3\",\n",
       " \"'LTP4\",\n",
       " \"'LTP5\",\n",
       " \"'LTP6\",\n",
       " \"'LAT1\",\n",
       " \"'LAT2\",\n",
       " \"'LAT3\",\n",
       " \"'LAT4\",\n",
       " \"'LMT1\",\n",
       " \"'LMT2\",\n",
       " \"'LMT3\",\n",
       " \"'LMT4\",\n",
       " \"'LPT1\",\n",
       " \"'LPT2\",\n",
       " \"'LPT3\",\n",
       " \"'LPT4\",\n",
       " \"'LPT5\",\n",
       " \"'LPT6\",\n",
       " \"'AHD1\",\n",
       " \"'AHD2\",\n",
       " \"'AHD3\",\n",
       " \"'AHD4\",\n",
       " \"'AHD5\",\n",
       " \"'AHD6\",\n",
       " \"'AHD7\",\n",
       " \"'AHD8\",\n",
       " \"'PHD1\",\n",
       " \"'PHD2\",\n",
       " \"'PHD3\",\n",
       " \"'PHD4\",\n",
       " \"'PHD5\",\n",
       " \"'PHD6\",\n",
       " \"'PHD7\",\n",
       " \"'PHD8\",\n",
       " \"'EOGL\",\n",
       " \"'EOGR\",\n",
       " \"'ECGL\",\n",
       " \"'ECGR\"]"
      ]
     },
     "execution_count": 20,
     "metadata": {},
     "output_type": "execute_result"
    }
   ],
   "source": [
    "chan_labels_all[0]"
   ]
  },
  {
   "cell_type": "code",
   "execution_count": 22,
   "metadata": {},
   "outputs": [
    {
     "data": {
      "text/plain": [
       "['Event',\n",
       " \"'C3\",\n",
       " \"'C4\",\n",
       " \"'O1\",\n",
       " \"'O2\",\n",
       " \"'FT9\",\n",
       " \"'FT10\",\n",
       " \"'Cz\",\n",
       " \"'F3\",\n",
       " \"'F4\",\n",
       " \"'F7\",\n",
       " \"'F8\",\n",
       " \"'Fz\",\n",
       " \"'Fp1\",\n",
       " \"'Fp2\",\n",
       " \"'Fpz\",\n",
       " \"'P3\",\n",
       " \"'P4\",\n",
       " \"'Pz\",\n",
       " \"'T7\",\n",
       " \"'T8\",\n",
       " \"'P7\",\n",
       " \"'P8\",\n",
       " \"'IO1\",\n",
       " \"'IO2\",\n",
       " \"'EMG1\",\n",
       " \"'EMG2\",\n",
       " \"'ECGL\",\n",
       " \"'ECGR\",\n",
       " \"'LAT1\",\n",
       " \"'LAT2\",\n",
       " \"'RAT1\",\n",
       " \"'RAT2\",\n",
       " \"'RESP\",\n",
       " \"'ABD\",\n",
       " \"'FLOW\",\n",
       " \"'SNORE\",\n",
       " \"'DIF5\",\n",
       " \"'DIF6\",\n",
       " \"'POS\",\n",
       " \"'DC2\",\n",
       " \"'DC3\",\n",
       " \"'DC4\",\n",
       " \"'DC5\",\n",
       " \"'DC6\",\n",
       " \"'DC7\",\n",
       " \"'DC8\",\n",
       " \"'DC9\",\n",
       " \"'DC10\",\n",
       " \"'OSAT\",\n",
       " \"'PR\"]"
      ]
     },
     "execution_count": 22,
     "metadata": {},
     "output_type": "execute_result"
    }
   ],
   "source": [
    "chan_labels_all[-2]"
   ]
  },
  {
   "cell_type": "code",
   "execution_count": 6,
   "metadata": {
    "scrolled": true
   },
   "outputs": [
    {
     "data": {
      "text/plain": [
       "[\"'GRID1\",\n",
       " \"'GRID2\",\n",
       " \"'GRID3\",\n",
       " \"'GRID4\",\n",
       " \"'GRID5\",\n",
       " \"'GRID6\",\n",
       " \"'GRID7\",\n",
       " \"'GRID8\",\n",
       " \"'GRID9\",\n",
       " \"'GRID10\",\n",
       " \"'GRID11\",\n",
       " \"'GRID12\",\n",
       " \"'GRID13\",\n",
       " \"'GRID14\",\n",
       " \"'GRID15\",\n",
       " \"'GRID16\",\n",
       " \"'GRID17\",\n",
       " \"'GRID18\",\n",
       " \"'GRID19\",\n",
       " \"'GRID20\",\n",
       " \"'GRID21\",\n",
       " \"'GRID22\",\n",
       " \"'GRID23\",\n",
       " \"'GRID24\",\n",
       " \"'GRID25\",\n",
       " \"'GRID26\",\n",
       " \"'GRID27\",\n",
       " \"'GRID28\",\n",
       " \"'GRID29\",\n",
       " \"'GRID30\",\n",
       " \"'GRID31\",\n",
       " \"'GRID32\",\n",
       " \"'GRID33\",\n",
       " \"'GRID34\",\n",
       " \"'GRID35\",\n",
       " \"'GRID36\",\n",
       " \"'GRID37\",\n",
       " \"'GRID38\",\n",
       " \"'GRID39\",\n",
       " \"'GRID40\",\n",
       " \"'GRID41\",\n",
       " \"'GRID42\",\n",
       " \"'GRID43\",\n",
       " \"'GRID44\",\n",
       " \"'GRID45\",\n",
       " \"'GRID46\",\n",
       " \"'GRID47\",\n",
       " \"'GRID48\",\n",
       " \"'GRID49\",\n",
       " \"'GRID50\",\n",
       " \"'GRID51\",\n",
       " \"'GRID52\",\n",
       " \"'GRID53\",\n",
       " \"'GRID54\",\n",
       " \"'GRID55\",\n",
       " \"'GRID56\",\n",
       " \"'GRID57\",\n",
       " \"'GRID58\",\n",
       " \"'GRID59\",\n",
       " \"'GRID60\",\n",
       " \"'GRID61\",\n",
       " \"'GRID62\",\n",
       " \"'GRID63\",\n",
       " \"'GRID64\",\n",
       " \"'LOF1\",\n",
       " \"'LOF2\",\n",
       " \"'LOF3\",\n",
       " \"'LOF4\",\n",
       " \"'LOF5\",\n",
       " \"'LOF6\",\n",
       " \"'LOF7\",\n",
       " \"'LOF8\",\n",
       " \"'AID1\",\n",
       " \"'AID2\",\n",
       " \"'AID3\",\n",
       " \"'AID4\",\n",
       " \"'AID5\",\n",
       " \"'AID6\",\n",
       " \"'AID7\",\n",
       " \"'AID8\",\n",
       " \"'PID1\",\n",
       " \"'PID2\",\n",
       " \"'PID3\",\n",
       " \"'PID4\",\n",
       " \"'PID5\",\n",
       " \"'PID6\",\n",
       " \"'PID7\",\n",
       " \"'PID8\",\n",
       " \"'LTP1\",\n",
       " \"'LTP2\",\n",
       " \"'LTP3\",\n",
       " \"'LTP4\",\n",
       " \"'LTP5\",\n",
       " \"'LTP6\",\n",
       " \"'LAT1\",\n",
       " \"'LAT2\",\n",
       " \"'LAT3\",\n",
       " \"'LAT4\",\n",
       " \"'LMT1\",\n",
       " \"'LMT2\",\n",
       " \"'LMT3\",\n",
       " \"'LMT4\",\n",
       " \"'LPT1\",\n",
       " \"'LPT2\",\n",
       " \"'LPT3\",\n",
       " \"'LPT4\",\n",
       " \"'LPT5\",\n",
       " \"'LPT6\",\n",
       " \"'AHD1\",\n",
       " \"'AHD2\",\n",
       " \"'AHD3\",\n",
       " \"'AHD4\",\n",
       " \"'AHD5\",\n",
       " \"'AHD6\",\n",
       " \"'AHD7\",\n",
       " \"'AHD8\",\n",
       " \"'PHD1\",\n",
       " \"'PHD2\",\n",
       " \"'PHD3\",\n",
       " \"'PHD4\",\n",
       " \"'PHD5\",\n",
       " \"'PHD6\",\n",
       " \"'PHD7\",\n",
       " \"'PHD8\"]"
      ]
     },
     "execution_count": 6,
     "metadata": {},
     "output_type": "execute_result"
    }
   ],
   "source": [
    "chan_labels_all[0][1:125]"
   ]
  },
  {
   "cell_type": "code",
   "execution_count": 15,
   "metadata": {},
   "outputs": [],
   "source": [
    "final_chan_inds = np.arange(1,125)"
   ]
  },
  {
   "cell_type": "code",
   "execution_count": 16,
   "metadata": {},
   "outputs": [],
   "source": [
    "np.savetxt(tmp_path+sbjID+'/chan_inds_use.txt',final_chan_inds)"
   ]
  },
  {
   "cell_type": "code",
   "execution_count": 17,
   "metadata": {},
   "outputs": [
    {
     "data": {
      "text/plain": [
       "array([  1,   2,   3,   4,   5,   6,   7,   8,   9,  10,  11,  12,  13,\n",
       "        14,  15,  16,  17,  18,  19,  20,  21,  22,  23,  24,  25,  26,\n",
       "        27,  28,  29,  30,  31,  32,  33,  34,  35,  36,  37,  38,  39,\n",
       "        40,  41,  42,  43,  44,  45,  46,  47,  48,  49,  50,  51,  52,\n",
       "        53,  54,  55,  56,  57,  58,  59,  60,  61,  62,  63,  64,  65,\n",
       "        66,  67,  68,  69,  70,  71,  72,  73,  74,  75,  76,  77,  78,\n",
       "        79,  80,  81,  82,  83,  84,  85,  86,  87,  88,  89,  90,  91,\n",
       "        92,  93,  94,  95,  96,  97,  98,  99, 100, 101, 102, 103, 104,\n",
       "       105, 106, 107, 108, 109, 110, 111, 112, 113, 114, 115, 116, 117,\n",
       "       118, 119, 120, 121, 122, 123, 124])"
      ]
     },
     "execution_count": 17,
     "metadata": {},
     "output_type": "execute_result"
    }
   ],
   "source": [
    "keep_inds = np.loadtxt(tmp_path+sbjID+'/chan_inds_use.txt').astype('int')\n",
    "keep_inds"
   ]
  },
  {
   "cell_type": "code",
   "execution_count": 25,
   "metadata": {},
   "outputs": [],
   "source": [
    "bad_files = ['processed_b45e3f7b_10.h5','processed_b45e3f7b_11.h5'] #['processed_ab2431d9_1.h5','processed_ab2431d9_3.h5']\n",
    "\n",
    "tmp_path = '/data1/users/stepeter/tmp_for_nas/'\n",
    "np.savetxt(tmp_path+sbjID+'/merge_ignore.txt',np.array(bad_files), delimiter=\" \", fmt=\"%s\")"
   ]
  },
  {
   "cell_type": "code",
   "execution_count": 26,
   "metadata": {},
   "outputs": [
    {
     "data": {
      "text/plain": [
       "['/data1/ecog_project/derived/processed_ecog/b45e3f7b/preproc_hospital_ecog/processed_b45e3f7b_1.h5',\n",
       " '/data1/ecog_project/derived/processed_ecog/b45e3f7b/preproc_hospital_ecog/processed_b45e3f7b_2.h5',\n",
       " '/data1/ecog_project/derived/processed_ecog/b45e3f7b/preproc_hospital_ecog/processed_b45e3f7b_3.h5',\n",
       " '/data1/ecog_project/derived/processed_ecog/b45e3f7b/preproc_hospital_ecog/processed_b45e3f7b_4.h5',\n",
       " '/data1/ecog_project/derived/processed_ecog/b45e3f7b/preproc_hospital_ecog/processed_b45e3f7b_5.h5',\n",
       " '/data1/ecog_project/derived/processed_ecog/b45e3f7b/preproc_hospital_ecog/processed_b45e3f7b_6.h5',\n",
       " '/data1/ecog_project/derived/processed_ecog/b45e3f7b/preproc_hospital_ecog/processed_b45e3f7b_7.h5',\n",
       " '/data1/ecog_project/derived/processed_ecog/b45e3f7b/preproc_hospital_ecog/processed_b45e3f7b_8.h5',\n",
       " '/data1/ecog_project/derived/processed_ecog/b45e3f7b/preproc_hospital_ecog/processed_b45e3f7b_9.h5']"
      ]
     },
     "execution_count": 26,
     "metadata": {},
     "output_type": "execute_result"
    }
   ],
   "source": [
    "bad_files = list(np.atleast_1d(np.loadtxt(tmp_path+sbjID+'/merge_ignore.txt', delimiter=\" \", dtype=np.str)))\n",
    "\n",
    "ecog_files_tmp = natsort.natsorted(glob.glob(loadpath+'/processed'+'*.h5'))\n",
    "for s,fileIDs in enumerate(bad_files):\n",
    "    bad_files[s] = loadpath+fileIDs\n",
    "    \n",
    "ecog_files = natsort.natsorted(list(set(ecog_files_tmp) - set(bad_files)))\n",
    "ecog_files"
   ]
  },
  {
   "cell_type": "code",
   "execution_count": null,
   "metadata": {},
   "outputs": [],
   "source": []
  }
 ],
 "metadata": {
  "kernelspec": {
   "display_name": "Python 3",
   "language": "python",
   "name": "python3"
  },
  "language_info": {
   "codemirror_mode": {
    "name": "ipython",
    "version": 3
   },
   "file_extension": ".py",
   "mimetype": "text/x-python",
   "name": "python",
   "nbconvert_exporter": "python",
   "pygments_lexer": "ipython3",
   "version": "3.6.8"
  },
  "varInspector": {
   "cols": {
    "lenName": 16,
    "lenType": 16,
    "lenVar": 40
   },
   "kernels_config": {
    "python": {
     "delete_cmd_postfix": "",
     "delete_cmd_prefix": "del ",
     "library": "var_list.py",
     "varRefreshCmd": "print(var_dic_list())"
    },
    "r": {
     "delete_cmd_postfix": ") ",
     "delete_cmd_prefix": "rm(",
     "library": "var_list.r",
     "varRefreshCmd": "cat(var_dic_list()) "
    }
   },
   "types_to_exclude": [
    "module",
    "function",
    "builtin_function_or_method",
    "instance",
    "_Feature"
   ],
   "window_display": false
  }
 },
 "nbformat": 4,
 "nbformat_minor": 2
}
